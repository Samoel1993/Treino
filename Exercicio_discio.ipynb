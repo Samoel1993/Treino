{
 "cells": [
  {
   "cell_type": "markdown",
   "metadata": {},
   "source": [
    "1 Crie um dicionário vazio. "
   ]
  },
  {
   "cell_type": "code",
   "execution_count": null,
   "metadata": {},
   "outputs": [],
   "source": [
    "vazio = {}\n",
    "\n",
    "print(vazio)"
   ]
  },
  {
   "cell_type": "markdown",
   "metadata": {},
   "source": [
    "2 Crie um dicionário com três pares de chave-valor."
   ]
  },
  {
   "cell_type": "code",
   "execution_count": null,
   "metadata": {},
   "outputs": [],
   "source": [
    "dicio = {\n",
    "    \"Blusa\": 45,\n",
    "    \"Tenis\": 30,\n",
    "    \"Meia\": 15\n",
    "}\n",
    "\n",
    "print(dicio)"
   ]
  },
  {
   "cell_type": "markdown",
   "metadata": {},
   "source": [
    "3. Acesse um valor específico em um dicionário.\n"
   ]
  },
  {
   "cell_type": "code",
   "execution_count": 35,
   "metadata": {},
   "outputs": [
    {
     "name": "stdout",
     "output_type": "stream",
     "text": [
      "15\n"
     ]
    }
   ],
   "source": [
    "dicio = {\n",
    "    \"Blusa\": 45,\n",
    "    \"Tenis\": 30,\n",
    "    \"Meia\": 15\n",
    "}\n",
    "\n",
    "print(dicio[\"Meia\"])"
   ]
  },
  {
   "cell_type": "markdown",
   "metadata": {},
   "source": [
    "4. Adicione um novo par chave-valor a um dicionário existente."
   ]
  },
  {
   "cell_type": "code",
   "execution_count": null,
   "metadata": {},
   "outputs": [],
   "source": [
    "dicio = {\n",
    "    \"Blusa\": 45,\n",
    "    \"Tenis\": 30,\n",
    "    \"Meia\": 15\n",
    "}\n",
    "\n",
    "dicio[\"Pijama\"] = 60\n",
    "print(dicio)"
   ]
  },
  {
   "cell_type": "markdown",
   "metadata": {},
   "source": [
    "5. Atualize o valor de uma chave específica em um dicionário."
   ]
  },
  {
   "cell_type": "code",
   "execution_count": null,
   "metadata": {},
   "outputs": [],
   "source": [
    "dicio = {\n",
    "    \"Blusa\": 45,\n",
    "    \"Tenis\": 30,\n",
    "    \"Meia\": 15\n",
    "}\n",
    "\n",
    "dicio[\"Tenis\"] = 50\n",
    "\n",
    "print(dicio)"
   ]
  },
  {
   "cell_type": "markdown",
   "metadata": {},
   "source": [
    "6. Remova um par chave-valor de um dicionário"
   ]
  },
  {
   "cell_type": "code",
   "execution_count": null,
   "metadata": {},
   "outputs": [],
   "source": [
    "dicio = {\n",
    "    \"Blusa\": 45,\n",
    "    \"Tenis\": 30,\n",
    "    \"Meia\": 15\n",
    "}\n",
    "\n",
    "del dicio[\"Tenis\"]\n",
    "print(dicio)"
   ]
  },
  {
   "cell_type": "markdown",
   "metadata": {},
   "source": [
    "7. Verifique se uma chave específica existe em um dicionário.\n"
   ]
  },
  {
   "cell_type": "code",
   "execution_count": null,
   "metadata": {},
   "outputs": [],
   "source": [
    "dicio = {\n",
    "    \"Blusa\": 45,\n",
    "    \"Tenis\": 30,\n",
    "    \"Meia\": 15\n",
    "}\n",
    "\n",
    "print(\"Tenis\" in dicio)"
   ]
  },
  {
   "cell_type": "markdown",
   "metadata": {},
   "source": [
    "8. Obtenha uma lista de todas as chaves em um dicionário."
   ]
  },
  {
   "cell_type": "code",
   "execution_count": null,
   "metadata": {},
   "outputs": [],
   "source": [
    "dicio = {\n",
    "    \"Blusa\": 45,\n",
    "    \"Tenis\": 30,\n",
    "    \"Meia\": 15\n",
    "}\n",
    "\n",
    "print(list(dicio))"
   ]
  },
  {
   "cell_type": "markdown",
   "metadata": {},
   "source": [
    "9. Obtenha uma lista de todos os valores em um dicionário.\n"
   ]
  },
  {
   "cell_type": "code",
   "execution_count": null,
   "metadata": {},
   "outputs": [],
   "source": [
    "dicio = {\n",
    "    \"Blusa\": 45,\n",
    "    \"Tenis\": 30,\n",
    "    \"Meia\": 15\n",
    "}\n",
    "\n",
    "print(list(dicio.values()))"
   ]
  },
  {
   "cell_type": "markdown",
   "metadata": {},
   "source": [
    "10.Obtenha o número total de pares chave-valor em um dicionário.\n"
   ]
  },
  {
   "cell_type": "code",
   "execution_count": null,
   "metadata": {},
   "outputs": [],
   "source": [
    "dicio = {\n",
    "    \"Blusa\": 45,\n",
    "    \"Tenis\": 30,\n",
    "    \"Meia\": 15\n",
    "}\n",
    "\n",
    "print(len(dicio.items()))"
   ]
  },
  {
   "cell_type": "markdown",
   "metadata": {},
   "source": [
    "11.Crie um dicionário aninhado (um dicionário dentro de outro dicionário).\n"
   ]
  },
  {
   "cell_type": "code",
   "execution_count": null,
   "metadata": {},
   "outputs": [],
   "source": [
    "dicio = {\n",
    "    \"Blusa\": 45,\n",
    "    \"Tenis\": {\"Nike\", \"Puma\"},\n",
    "    \"Meia\": 15\n",
    "}\n",
    "\n",
    "print(dicio)"
   ]
  },
  {
   "cell_type": "markdown",
   "metadata": {},
   "source": [
    "12.Acesse um valor específico em um dicionário aninhado.\n"
   ]
  },
  {
   "cell_type": "code",
   "execution_count": 33,
   "metadata": {},
   "outputs": [
    {
     "name": "stdout",
     "output_type": "stream",
     "text": [
      "20\n"
     ]
    }
   ],
   "source": [
    "dicio = {\n",
    "    \"Blusa\": 45,\n",
    "    \"Tenis\": {\"Nike\": 20, \"Puma\": 30},\n",
    "    \"Meia\": 15\n",
    "}\n",
    "\n",
    "\n",
    "print(dicio[\"Tenis\"][\"Nike\"])"
   ]
  },
  {
   "cell_type": "markdown",
   "metadata": {},
   "source": [
    "13.Adicione um novo par chave-valor em um dicionário aninhado.\n"
   ]
  },
  {
   "cell_type": "code",
   "execution_count": null,
   "metadata": {},
   "outputs": [],
   "source": [
    "dicio = {\n",
    "    \"Blusa\": 45,\n",
    "    \"Tenis\": {\"Nike\": 20, \"Puma\": 30},\n",
    "    \"Meia\": 15\n",
    "}\n",
    "\n",
    "dicio[\"Tenis\"][\"All Star\"] = 20\n",
    "\n",
    "print(dicio)"
   ]
  },
  {
   "cell_type": "markdown",
   "metadata": {},
   "source": [
    "14.Atualize o valor de uma chave específica em um dicionário aninhado.\n"
   ]
  },
  {
   "cell_type": "code",
   "execution_count": null,
   "metadata": {},
   "outputs": [],
   "source": [
    "dicio = {\n",
    "    \"Blusa\": 45,\n",
    "    \"Tenis\": {\"Nike\": 20, \"Puma\": 30},\n",
    "    \"Meia\": 15\n",
    "}\n",
    "\n",
    "dicio[\"Tenis\"][\"Puma\"] = 100\n",
    "\n",
    "print(dicio)\n"
   ]
  },
  {
   "cell_type": "markdown",
   "metadata": {},
   "source": [
    "15.Remova um par chave-valor de um dicionário aninhado.\n"
   ]
  },
  {
   "cell_type": "code",
   "execution_count": null,
   "metadata": {},
   "outputs": [],
   "source": [
    "dicio = {\n",
    "    \"Blusa\": 45,\n",
    "    \"Tenis\": {\"Nike\": 20, \"Puma\": 30},\n",
    "    \"Meia\": 15\n",
    "}\n",
    "\n",
    "del dicio[\"Tenis\"][\"Puma\"]\n",
    "\n",
    "print(dicio)"
   ]
  },
  {
   "cell_type": "markdown",
   "metadata": {},
   "source": [
    "16.Verifique se uma chave específica existe em um dicionário aninhado.\n"
   ]
  },
  {
   "cell_type": "code",
   "execution_count": null,
   "metadata": {},
   "outputs": [],
   "source": [
    "dicio = {\n",
    "    \n",
    "    \"Tenis\": {\"Nike\", \"Puma\"},\n",
    "}\n",
    "\n",
    "for key in dicio.values():\n",
    "    print(\"Nike\" in key)"
   ]
  },
  {
   "cell_type": "markdown",
   "metadata": {},
   "source": [
    "17.Obtenha uma lista de todas as chaves em um dicionário aninhado.\n"
   ]
  },
  {
   "cell_type": "code",
   "execution_count": 22,
   "metadata": {},
   "outputs": [
    {
     "name": "stdout",
     "output_type": "stream",
     "text": [
      "('Tenis', {'Puma', 'Nike'})\n"
     ]
    }
   ],
   "source": [
    "dicio = {\n",
    "    \n",
    "    \"Tenis\": {\"Nike\", \"Puma\"},\n",
    "}\n",
    "\n",
    "\n",
    "for key in dicio.items():\n",
    "    print(key)"
   ]
  },
  {
   "cell_type": "markdown",
   "metadata": {},
   "source": [
    "18.Obtenha uma lista de todos os valores em um dicionário aninhado.\n"
   ]
  },
  {
   "cell_type": "code",
   "execution_count": null,
   "metadata": {},
   "outputs": [],
   "source": [
    "dicio = {\n",
    "    \n",
    "    \"Tenis\": {\"Nike\", \"Puma\"},\n",
    "}\n",
    "\n",
    "\n",
    "for key in dicio.values():\n",
    "    print(key)"
   ]
  },
  {
   "cell_type": "markdown",
   "metadata": {},
   "source": [
    "19.Obtenha o número total de pares chave-valor em um dicionário aninhado.\n"
   ]
  },
  {
   "cell_type": "code",
   "execution_count": null,
   "metadata": {},
   "outputs": [],
   "source": [
    "dicio = {\n",
    "    \n",
    "    \"Tenis\": {\"Nike\", \"Puma\"},\n",
    "}\n",
    "\n",
    "print(len(dicio[\"Tenis\"]))"
   ]
  },
  {
   "cell_type": "markdown",
   "metadata": {},
   "source": [
    "21) Faça um programa monte uma tabela de preços com a chave sendo o código do \n",
    "produto e o valor como sendo o par (<nome do produto, preço). Peça que o usuário \n",
    "informe a chave e quantidade para um produto e exiba o nome do produto, o preço \n",
    "unitário e o preço total."
   ]
  },
  {
   "cell_type": "code",
   "execution_count": null,
   "metadata": {},
   "outputs": [],
   "source": [
    "tabela = {\n",
    "    \"produto 1\": 5\n",
    "}\n",
    "\n",
    "produto = input(\"Informe o produto: \")\n",
    "quantidade = int(input(\"Digite a quantidade: \"))\n",
    "\n",
    "print(\"Preço total\",tabela[produto] * quantidade)"
   ]
  },
  {
   "cell_type": "markdown",
   "metadata": {},
   "source": [
    "22) Crie um dicionário d e coloque nele seus dados: nome, idade, telefone, endereço.\n",
    "Usando o dicionário d criado anteriormente, imprima seu nome."
   ]
  },
  {
   "cell_type": "code",
   "execution_count": null,
   "metadata": {},
   "outputs": [],
   "source": [
    "dados = {\n",
    "    \"Nome\": \"Samoel\",\n",
    "    \"Idade\": 20,\n",
    "    \"Telefone\": \"(99)999999\",\n",
    "    \"Endereço\": \"Rua da Saudades\"\n",
    "}\n",
    "\n",
    "print(dados[\"Nome\"])"
   ]
  },
  {
   "cell_type": "markdown",
   "metadata": {},
   "source": [
    "23) Crie um dicionário d e coloque nele os dados fornecidos pelo usuário: nome, idade,\n",
    "telefone, endereço.\n",
    "Também usando d, imprima todos os itens do dicionário no formato chave : valor,\n",
    "ordenado pela chave.\n"
   ]
  },
  {
   "cell_type": "code",
   "execution_count": 39,
   "metadata": {},
   "outputs": [
    {
     "name": "stdout",
     "output_type": "stream",
     "text": [
      "{'Endereço': 'rua da sasudae', 'Idade': 20, 'Nome': 'Samoel', 'Telefone': '(23) 9448484'}\n"
     ]
    }
   ],
   "source": [
    "dados_usuario = {}\n",
    "\n",
    "nome = input(\"Digite seu nome: \")\n",
    "idade = int(input(\"Digite sua idade: \"))\n",
    "telefone = input(\"Digite um Telefone: \")\n",
    "endereco = input(\"Digite o endereço: \")\n",
    "\n",
    "dados_usuario[\"Endereço\"] = endereco\n",
    "dados_usuario[\"Idade\"] = idade\n",
    "dados_usuario[\"Nome\"] = nome\n",
    "dados_usuario[\"Telefone\"] = telefone\n",
    "\n",
    "print(dados_usuario)"
   ]
  },
  {
   "cell_type": "markdown",
   "metadata": {},
   "source": [
    "24) Crie um dicionário que é uma agenda e coloque nele os seguintes dados: chave (cpf),\n",
    "nome, idade, telefone. O programa deve ler um número indeterminado de dados, criar a\n",
    "agenda e imprimir todos os itens do dicionário no formato chave: nome-idade- fone."
   ]
  },
  {
   "cell_type": "code",
   "execution_count": null,
   "metadata": {},
   "outputs": [],
   "source": []
  },
  {
   "cell_type": "markdown",
   "metadata": {},
   "source": [
    "25) Crie um programa que cadastre informações de várias pessoas (nome, idade e cpf) e\n",
    "depois coloque em um dicionário. Depois remova todas as pessoas menores de 18 anos\n",
    "do dicionário e coloque em outro dicionário."
   ]
  },
  {
   "cell_type": "code",
   "execution_count": 47,
   "metadata": {},
   "outputs": [
    {
     "name": "stdout",
     "output_type": "stream",
     "text": [
      "{'Nome': 'samoel', 'Idade': 20, 'CPF': '81212'}\n"
     ]
    },
    {
     "ename": "RuntimeError",
     "evalue": "dictionary changed size during iteration",
     "output_type": "error",
     "traceback": [
      "\u001b[1;31m---------------------------------------------------------------------------\u001b[0m",
      "\u001b[1;31mRuntimeError\u001b[0m                              Traceback (most recent call last)",
      "Cell \u001b[1;32mIn[47], line 16\u001b[0m\n\u001b[0;32m     14\u001b[0m pessoas[\u001b[38;5;124m\"\u001b[39m\u001b[38;5;124mIdade\u001b[39m\u001b[38;5;124m\"\u001b[39m] \u001b[38;5;241m=\u001b[39m idade\n\u001b[0;32m     15\u001b[0m pessoas[\u001b[38;5;124m\"\u001b[39m\u001b[38;5;124mCPF\u001b[39m\u001b[38;5;124m\"\u001b[39m] \u001b[38;5;241m=\u001b[39m cpf\n\u001b[1;32m---> 16\u001b[0m \u001b[43m\u001b[49m\u001b[38;5;28;43;01mfor\u001b[39;49;00m\u001b[43m \u001b[49m\u001b[43mvalues\u001b[49m\u001b[43m \u001b[49m\u001b[38;5;129;43;01min\u001b[39;49;00m\u001b[43m \u001b[49m\u001b[43mpessoas\u001b[49m\u001b[38;5;241;43m.\u001b[39;49m\u001b[43mvalues\u001b[49m\u001b[43m(\u001b[49m\u001b[43m)\u001b[49m\u001b[43m:\u001b[49m\n\u001b[0;32m     17\u001b[0m \u001b[43m    \u001b[49m\u001b[38;5;28;43;01mif\u001b[39;49;00m\u001b[43m \u001b[49m\u001b[43mpessoas\u001b[49m\u001b[43m[\u001b[49m\u001b[38;5;124;43m\"\u001b[39;49m\u001b[38;5;124;43mIdade\u001b[39;49m\u001b[38;5;124;43m\"\u001b[39;49m\u001b[43m]\u001b[49m\u001b[43m \u001b[49m\u001b[38;5;241;43m<\u001b[39;49m\u001b[43m \u001b[49m\u001b[38;5;241;43m18\u001b[39;49m\u001b[43m:\u001b[49m\n\u001b[0;32m     18\u001b[0m \u001b[43m        \u001b[49m\u001b[38;5;28;43;01mdel\u001b[39;49;00m\u001b[43m \u001b[49m\u001b[43mpessoas\u001b[49m\u001b[43m[\u001b[49m\u001b[38;5;124;43m\"\u001b[39;49m\u001b[38;5;124;43mCPF\u001b[39;49m\u001b[38;5;124;43m\"\u001b[39;49m\u001b[43m]\u001b[49m\n",
      "\u001b[1;31mRuntimeError\u001b[0m: dictionary changed size during iteration"
     ]
    }
   ],
   "source": [
    "pessoas = {}\n",
    "\n",
    "quantidade = int(input(\"Informe a quantidade de pessoas: \"))\n",
    "\n",
    "x = 1\n",
    "\n",
    "while x <= quantidade:\n",
    "\n",
    "    nome = input(\"Digite um nome: \")\n",
    "    idade = int(input(\"Digite uma idade: \"))\n",
    "    cpf = input(\"Digite um CPF: \")\n",
    "\n",
    "    pessoas[\"Nome\"] = nome\n",
    "    pessoas[\"Idade\"] = idade\n",
    "    pessoas[\"CPF\"] = cpf\n",
    "    for values in pessoas.values():\n",
    "        if pessoas[\"Idade\"] < 18:\n",
    "            del pessoas[\"CPF\"]\n",
    "            del pessoas[\"Idade\"]\n",
    "            del pessoas[\"Nome\"]\n",
    "            \n",
    "            \n",
    "    x += 1\n",
    "    print(pessoas)\n",
    "    \n"
   ]
  }
 ],
 "metadata": {
  "kernelspec": {
   "display_name": "Python 3",
   "language": "python",
   "name": "python3"
  },
  "language_info": {
   "codemirror_mode": {
    "name": "ipython",
    "version": 3
   },
   "file_extension": ".py",
   "mimetype": "text/x-python",
   "name": "python",
   "nbconvert_exporter": "python",
   "pygments_lexer": "ipython3",
   "version": "3.12.3"
  }
 },
 "nbformat": 4,
 "nbformat_minor": 2
}
